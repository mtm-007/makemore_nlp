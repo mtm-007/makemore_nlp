{
 "cells": [
  {
   "cell_type": "code",
   "execution_count": null,
   "id": "0bdd63a3",
   "metadata": {},
   "outputs": [],
   "source": [
    "import torch\n",
    "import matplotlib.pyplot as plt\n",
    "import torch.nn.functional as F\n",
    "from math import sqrt\n",
    "import random\n",
    "%matplotlib inline"
   ]
  },
  {
   "cell_type": "code",
   "execution_count": null,
   "id": "2a8fbe14",
   "metadata": {},
   "outputs": [
    {
     "data": {
      "text/plain": [
       "(['emma', 'olivia', 'ava', 'isabella', 'sophia', 'charlotte', 'mia', 'amelia'],\n",
       " 32033)"
      ]
     },
     "execution_count": null,
     "metadata": {},
     "output_type": "execute_result"
    }
   ],
   "source": [
    "words = open('names.txt', 'r').read().splitlines()\n",
    "words[:8], len(words)\n"
   ]
  },
  {
   "cell_type": "code",
   "execution_count": null,
   "id": "7f448e57",
   "metadata": {},
   "outputs": [
    {
     "name": "stdout",
     "output_type": "stream",
     "text": [
      "{1: 'a', 2: 'b', 3: 'c', 4: 'd', 5: 'e', 6: 'f', 7: 'g', 8: 'h', 9: 'i', 10: 'j', 11: 'k', 12: 'l', 13: 'm', 14: 'n', 15: 'o', 16: 'p', 17: 'q', 18: 'r', 19: 's', 20: 't', 21: 'u', 22: 'v', 23: 'w', 24: 'x', 25: 'y', 26: 'z', 0: '.'}\n",
      "27\n"
     ]
    }
   ],
   "source": [
    "chars = sorted(list(set(''.join(words))))\n",
    "stio = {s:i+1 for i,s in enumerate(chars)}\n",
    "stio['.']=0\n",
    "iots = {i:s for s,i in stio.items()}\n",
    "vocab_size = len(iots)\n",
    "print(iots)\n",
    "print(vocab_size)\n"
   ]
  },
  {
   "cell_type": "code",
   "execution_count": null,
   "id": "726d89a2",
   "metadata": {},
   "outputs": [],
   "source": [
    "random.seed(42)\n",
    "random.shuffle(words)"
   ]
  },
  {
   "cell_type": "code",
   "execution_count": null,
   "id": "1ce24835",
   "metadata": {},
   "outputs": [
    {
     "name": "stdout",
     "output_type": "stream",
     "text": [
      "torch.Size([182625, 8]) torch.Size([182625])\n",
      "torch.Size([22655, 8]) torch.Size([22655])\n",
      "torch.Size([22866, 8]) torch.Size([22866])\n"
     ]
    }
   ],
   "source": [
    "block_size = 8\n",
    "vocab_size = 27\n",
    "\n",
    "def build_dataset(words):\n",
    "    \n",
    "    X, Y = [],[]\n",
    "\n",
    "    for w in words:\n",
    "        #print(w)\n",
    "        context = [0] * block_size\n",
    "        for ch in w +'.':\n",
    "            ix = stio[ch]\n",
    "            X.append(context)\n",
    "            Y.append(ix)\n",
    "            #print(''.join(iots[i] for i in context),'---->',iots[ix])\n",
    "            context = context[1:] + [ix]\n",
    "\n",
    "    X = torch.tensor(X)\n",
    "    Y = torch.tensor(Y)\n",
    "    print(X.shape, Y.shape)\n",
    "    return X,Y\n",
    "\n",
    "n1 = int(0.8*len(words))\n",
    "n2 = int(0.9*len(words))\n",
    "\n",
    "Xtr, Ytr = build_dataset(words[:n1])\n",
    "Xdev, Ydev = build_dataset(words[n1:n2])\n",
    "Xts, Yts = build_dataset(words[n2:])"
   ]
  },
  {
   "cell_type": "code",
   "execution_count": null,
   "id": "90f13dc4",
   "metadata": {},
   "outputs": [
    {
     "name": "stdout",
     "output_type": "stream",
     "text": [
      "........ ---> y\n",
      ".......y ---> u\n",
      "......yu ---> h\n",
      ".....yuh ---> e\n",
      "....yuhe ---> n\n",
      "...yuhen ---> g\n",
      "..yuheng ---> .\n",
      "........ ---> d\n",
      ".......d ---> i\n",
      "......di ---> o\n",
      ".....dio ---> n\n",
      "....dion ---> d\n",
      "...diond ---> r\n",
      "..diondr ---> e\n",
      ".diondre ---> .\n",
      "........ ---> x\n",
      ".......x ---> a\n",
      "......xa ---> v\n",
      ".....xav ---> i\n",
      "....xavi ---> e\n"
     ]
    }
   ],
   "source": [
    "for x,y in zip(Xtr[:20], Ytr[:20]):\n",
    "    print(''.join(iots[ix.item()] for ix in x), '--->',iots[y.item()])"
   ]
  },
  {
   "cell_type": "code",
   "execution_count": null,
   "id": "0eea9ce2",
   "metadata": {},
   "outputs": [],
   "source": [
    "\n",
    "class Linear:\n",
    "    \n",
    "    def __init__(self, fan_in, fan_out, bias=True):\n",
    "        #fan_in is features in , num_dim * Block size & fan_out is features out, num_hidden neurons\n",
    "        self.weight = torch.randn((fan_in, fan_out)) / fan_in**0.5 # kaimin initi\n",
    "        self.bias   = torch.zeros(fan_out) if bias else None\n",
    "        \n",
    "    def __call__(self, x):\n",
    "        self.out = x @ self.weight\n",
    "        if self.bias is not None:\n",
    "            self.out += self.bias\n",
    "        return self.out\n",
    "    \n",
    "    def parameters(self):\n",
    "        return [self.weight] + ([] if self.bias is None else [self.bias])\n",
    "#-------------------------------------------------------------------------------------    \n",
    "\n",
    "class Batchnorm1d:\n",
    "                \n",
    "    def __init__(self, dim, eps=1e-5, momentum=0.1):\n",
    "        self.eps = eps\n",
    "        self.momentum = momentum\n",
    "        self.training = True\n",
    "        #parameters trainied with backdrop\n",
    "        self.gamma = torch.ones(dim)\n",
    "        self.beta  = torch.zeros(dim)\n",
    "        # buffers (trained with runining momentum update) exponential moving average\n",
    "        self.runining_mean = torch.zeros(dim)\n",
    "        self.runining_var = torch.ones(dim)\n",
    "        \n",
    "        \n",
    "    def __call__(self,x):\n",
    "        #forward pass\n",
    "        if self.training:\n",
    "            if x.ndim == 2:\n",
    "                dim = 0\n",
    "            elif x.ndim ==3:\n",
    "                dim =(0,1)\n",
    "            xmean = x.mean(dim, keepdim=True) # batch mean\n",
    "            xvar = x.var(dim, keepdim=True) # batch variance\n",
    "        else:\n",
    "            xmean = self.runining_mean\n",
    "            xvar = self.runining_var\n",
    "        #finding var then sqrt to find std to follow the paper\n",
    "        xhat = (x - xmean) / torch.sqrt(xvar + self.eps) # normalizing to unit variance\n",
    "        self.out = self.gamma * xhat + self.beta\n",
    "        #update the buffers\n",
    "        if self.training:\n",
    "            #those dont get run if we are in inference \n",
    "            with torch.no_grad():\n",
    "                self.runining_mean = ( 1 - self.momentum) * self.runining_mean + self.momentum * xmean\n",
    "                self.runining_var = ( 1 - self.momentum) * self.runining_var + self.momentum * xvar\n",
    "        return self.out\n",
    "    \n",
    "    def parameters(self):\n",
    "        return [self.gamma, self.beta]\n",
    "#---------------------------------------------------------------------------------------------------------------    \n",
    "class Tanh:\n",
    "    def __call__(self, x):\n",
    "        self.out = torch.tanh(x)\n",
    "        return self.out\n",
    "    def parameters(self):\n",
    "        return []\n",
    "#--------------------------------------------------------------------------------------------------------------       \n",
    "class Embedding:\n",
    "    def __init__(self, num_embeddings, embedding_dim):\n",
    "        self.weight = torch.randn((num_embeddings, embedding_dim))\n",
    "    \n",
    "    def __call__(self, IX):\n",
    "        self.out = self.weight[IX]\n",
    "        return self.out\n",
    "    \n",
    "    def parameters(self):\n",
    "        return [self.weight]\n",
    "# ---------------------------------------------------------------------------------------------------------------\n",
    "class FlattenConseqetive:\n",
    "    def __init__(self, n):\n",
    "        self.n = n\n",
    "        \n",
    "    def __call__(self,x):\n",
    "        B,T,C = x.shape\n",
    "        x = x.view(B,T//self.n,C*self.n)\n",
    "        if x.shape[1]==1:\n",
    "            x = x.squeeze(1)\n",
    "        self.out =x\n",
    "        return self.out\n",
    "    \n",
    "    def parameters(self):\n",
    "        return []\n",
    "# ---------------------------------------------------------------------------------------------------------------\n",
    "class Sequential:\n",
    "    def __init__(self, layers):\n",
    "        self.layers = layers\n",
    "        \n",
    "    def __call__(self, x):\n",
    "        for layer in self.layers:\n",
    "            x = layer(x)\n",
    "        self.out = x\n",
    "        return self.out\n",
    "        \n",
    "    def parameters(self):\n",
    "        return [p for layer in self.layers for p in layer.parameters()]\n",
    "        \n",
    "        "
   ]
  },
  {
   "cell_type": "code",
   "execution_count": null,
   "id": "da165871",
   "metadata": {},
   "outputs": [],
   "source": [
    "# we are opting out of using the generator g instead use torch random seed\n",
    "torch.manual_seed(42);"
   ]
  },
  {
   "cell_type": "code",
   "execution_count": null,
   "id": "70ba0447",
   "metadata": {},
   "outputs": [
    {
     "name": "stdout",
     "output_type": "stream",
     "text": [
      "22397\n"
     ]
    }
   ],
   "source": [
    "num_emb = 10\n",
    "n_hidden = 68\n",
    "\n",
    "\n",
    "C = torch.randn((vocab_size, num_emb)) # initial embedding matrix\n",
    "\n",
    "#we can call our layers sequentially\n",
    "model = Sequential([\n",
    "    Embedding(vocab_size, num_emb),\n",
    "    FlattenConseqetive(2),Linear(num_emb*2, n_hidden, bias=False), Batchnorm1d(n_hidden), Tanh(),\n",
    "    FlattenConseqetive(2),Linear(n_hidden*2, n_hidden, bias=False), Batchnorm1d(n_hidden), Tanh(),\n",
    "    FlattenConseqetive(2),Linear(n_hidden*2, n_hidden, bias=False), Batchnorm1d(n_hidden), Tanh(),\n",
    "    Linear(n_hidden, vocab_size),\n",
    "])\n",
    "\n",
    "with torch.no_grad():\n",
    "    model.layers[-1].weight *= 0.1 #last layer make less confident\n",
    "        \n",
    "parameters = model.parameters()\n",
    "print(sum(p.nelement() for p in parameters))\n",
    "\n",
    "for p in parameters:\n",
    "    p.requires_grad = True"
   ]
  },
  {
   "cell_type": "code",
   "execution_count": null,
   "id": "64606658",
   "metadata": {},
   "outputs": [],
   "source": [
    "# for layer in model.layers:\n",
    "#     print(layer.__class__.__name__,':',tuple(layer.out.shape))"
   ]
  },
  {
   "cell_type": "code",
   "execution_count": null,
   "id": "97abc115",
   "metadata": {},
   "outputs": [
    {
     "data": {
      "text/plain": [
       "torch.Size([68])"
      ]
     },
     "execution_count": null,
     "metadata": {},
     "output_type": "execute_result"
    }
   ],
   "source": [
    "model.layers[3].runining_mean.shape"
   ]
  },
  {
   "cell_type": "code",
   "execution_count": null,
   "id": "c628c7a6",
   "metadata": {},
   "outputs": [
    {
     "name": "stdout",
     "output_type": "stream",
     "text": [
      "      0/ 200000: 3.2957\n",
      "  10000/ 200000: 2.1533\n",
      "  20000/ 200000: 2.3340\n",
      "  30000/ 200000: 2.2316\n",
      "  40000/ 200000: 1.9793\n",
      "  50000/ 200000: 2.1910\n",
      "  60000/ 200000: 2.0981\n",
      "  70000/ 200000: 2.2376\n",
      "  80000/ 200000: 1.9006\n",
      "  90000/ 200000: 2.5894\n",
      " 100000/ 200000: 2.5439\n",
      " 110000/ 200000: 2.0833\n",
      " 120000/ 200000: 2.1969\n",
      " 130000/ 200000: 2.0963\n",
      " 140000/ 200000: 2.3316\n",
      " 150000/ 200000: 2.1229\n",
      " 160000/ 200000: 2.3025\n",
      " 170000/ 200000: 2.4196\n",
      " 180000/ 200000: 2.0264\n",
      " 190000/ 200000: 2.3438\n"
     ]
    }
   ],
   "source": [
    "max_steps = 200000\n",
    "bs =32 # batch size\n",
    "lossi =[]\n",
    "ud = []\n",
    "\n",
    "for i in range(max_steps):\n",
    "    \n",
    "    #contruct a minibatch\n",
    "    ix = torch.randint(0,Xtr.shape[0], (bs,))\n",
    "    xb, yb = Xtr[ix], Ytr[ix] #batch of x and y\n",
    "    \n",
    "    #forward pass\n",
    "    logits = model(xb)\n",
    "    loss = F.cross_entropy(logits, yb)\n",
    "    \n",
    "    #backward\n",
    "    for p in parameters:\n",
    "        p.grad = None\n",
    "    loss.backward()\n",
    "    \n",
    "    #updating\n",
    "    lr = 1.0 #0.1 if i < 150000 else 0.01    #step learing rate Decay \n",
    "    for p in parameters:\n",
    "        p.data += -lr*p.grad\n",
    "        \n",
    "    #tracking stats\n",
    "    if i %10000==0:\n",
    "        print(f'{i:7d}/{max_steps:7d}: {loss.item():.4f}')\n",
    "    lossi.append(loss.log10().item())\n",
    "#     with torch.no_grad():\n",
    "#         ud.append([(lr*p.grad.std() / p.data.std()).log10().item() for p in parameters])\n",
    "    \n",
    "    #break #after Debug: would take out to run full optimazation"
   ]
  },
  {
   "cell_type": "code",
   "execution_count": null,
   "id": "1f5e7ce2",
   "metadata": {},
   "outputs": [],
   "source": [
    "#plt.plot(lossi);"
   ]
  },
  {
   "cell_type": "code",
   "execution_count": null,
   "id": "6906d9c6",
   "metadata": {},
   "outputs": [
    {
     "data": {
      "text/plain": [
       "[<matplotlib.lines.Line2D>]"
      ]
     },
     "execution_count": null,
     "metadata": {},
     "output_type": "execute_result"
    },
    {
     "data": {
      "image/png": "[encoded data removed]",
      "text/plain": [
       "<Figure size 640x480 with 1 Axes>"
      ]
     },
     "metadata": {},
     "output_type": "display_data"
    }
   ],
   "source": [
    "plt.plot(torch.tensor(lossi).view(-1, 1000).mean(1))"
   ]
  },
  {
   "cell_type": "code",
   "execution_count": null,
   "id": "40e76f30",
   "metadata": {},
   "outputs": [],
   "source": [
    "#to put in eval mode, especially for batchnorm to use the xmean from the running_mean\n",
    "for layer in model.layers:\n",
    "    layer.training = False"
   ]
  },
  {
   "cell_type": "code",
   "execution_count": null,
   "id": "4861513c",
   "metadata": {},
   "outputs": [
    {
     "name": "stdout",
     "output_type": "stream",
     "text": [
      "train 2.0594\n",
      "dev 2.1293\n"
     ]
    }
   ],
   "source": [
    "# test data loss test\n",
    "@torch.no_grad()\n",
    "def split_loss(split):\n",
    "    x,y = {\n",
    "        'train':(Xtr,Ytr),\n",
    "        'dev': (Xdev,Ydev),\n",
    "        'test': (Xts, Yts)\n",
    "    }[split]\n",
    "    \n",
    "    logits = model(x)\n",
    "    loss = F.cross_entropy(logits,y)\n",
    "    print(f'{split} {loss.item():.4f}')\n",
    "\n",
    "split_loss('train')\n",
    "split_loss('dev')"
   ]
  },
  {
   "cell_type": "code",
   "execution_count": null,
   "id": "b8b0306b",
   "metadata": {},
   "outputs": [
    {
     "name": "stdout",
     "output_type": "stream",
     "text": [
      "joda.\n",
      "valiah.\n",
      "fletsay.\n",
      "drecl.\n",
      "araya.\n",
      "zadina.\n",
      "lizlie.\n",
      "raesly.\n",
      "tace.\n",
      "joliona.\n",
      "zionne.\n",
      "dehorle.\n",
      "euhami.\n",
      "eleiza.\n",
      "lodoat.\n",
      "bbeliolah.\n",
      "trysvn.\n",
      "nova.\n",
      "eleana.\n",
      "aurie.\n"
     ]
    }
   ],
   "source": [
    "#sample from the model\n",
    "\n",
    "for _ in range(20):\n",
    "    out = []\n",
    "    context = [0]* block_size # initializing all with ...\n",
    "    while True:\n",
    "        logits = model(torch.tensor([context]))\n",
    "        probs = F.softmax(logits, 1)\n",
    "        ix = torch.multinomial(probs, num_samples=1).item()\n",
    "        context = context[1:] + [ix]\n",
    "        out.append(ix)\n",
    "        if ix ==0:\n",
    "            break\n",
    "            \n",
    "    print(''.join(iots[i] for i in out ))"
   ]
  },
  {
   "cell_type": "code",
   "execution_count": null,
   "id": "397a64ce",
   "metadata": {},
   "outputs": [],
   "source": []
  }
 ],
 "metadata": {
  "kernelspec": {
   "display_name": "python3",
   "language": "python",
   "name": "python3"
  }
 },
 "nbformat": 4,
 "nbformat_minor": 5
}
