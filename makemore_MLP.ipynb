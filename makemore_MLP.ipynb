{
 "cells": [
  {
   "cell_type": "code",
   "execution_count": null,
   "id": "5aac4356",
   "metadata": {},
   "outputs": [],
   "source": [
    "import torch\n",
    "import matplotlib.pyplot as plt\n",
    "import torch.nn.functional as F\n",
    "from math import sqrt\n",
    "%matplotlib inline"
   ]
  },
  {
   "cell_type": "code",
   "execution_count": null,
   "id": "60a36963",
   "metadata": {},
   "outputs": [
    {
     "data": {
      "text/plain": [
       "(['emma', 'olivia', 'ava', 'isabella', 'sophia', 'charlotte', 'mia', 'amelia'],\n",
       " 32033)"
      ]
     },
     "execution_count": null,
     "metadata": {},
     "output_type": "execute_result"
    }
   ],
   "source": [
    "words = open('names.txt', 'r').read().splitlines()\n",
    "words[:8], len(words)"
   ]
  },
  {
   "cell_type": "code",
   "execution_count": null,
   "id": "bb3ae6f9",
   "metadata": {},
   "outputs": [
    {
     "name": "stdout",
     "output_type": "stream",
     "text": [
      "{1: 'a', 2: 'b', 3: 'c', 4: 'd', 5: 'e', 6: 'f', 7: 'g', 8: 'h', 9: 'i', 10: 'j', 11: 'k', 12: 'l', 13: 'm', 14: 'n', 15: 'o', 16: 'p', 17: 'q', 18: 'r', 19: 's', 20: 't', 21: 'u', 22: 'v', 23: 'w', 24: 'x', 25: 'y', 26: 'z', 0: '.'}\n"
     ]
    }
   ],
   "source": [
    "chars = sorted(list(set(''.join(words))))\n",
    "stio = {s:i+1 for i,s in enumerate(chars)}\n",
    "stio['.']=0\n",
    "iots = {i:s for s,i in stio.items()}\n",
    "print(iots)"
   ]
  },
  {
   "cell_type": "code",
   "execution_count": null,
   "id": "7f49bec3",
   "metadata": {},
   "outputs": [],
   "source": [
    "#building dataset\n",
    "block_size = 3\n",
    "X, Y = [],[]\n",
    "\n",
    "for w in words:\n",
    "    #print(w)\n",
    "    context = [0] * block_size\n",
    "    for ch in w +'.':\n",
    "        ix = stio[ch]\n",
    "        X.append(context)\n",
    "        Y.append(ix)\n",
    "        #print(''.join(iots[i] for i in context),'---->',iots[ix])\n",
    "        context = context[1:] + [ix]\n",
    "        \n",
    "X = torch.tensor(X)\n",
    "Y = torch.tensor(Y)"
   ]
  },
  {
   "cell_type": "code",
   "execution_count": null,
   "id": "7c6285d8",
   "metadata": {},
   "outputs": [
    {
     "data": {
      "text/plain": [
       "(torch.Size([228146, 3]), torch.int64, torch.Size([228146]), torch.int64)"
      ]
     },
     "execution_count": null,
     "metadata": {},
     "output_type": "execute_result"
    }
   ],
   "source": [
    "X.shape, X.dtype, Y.shape,Y.dtype"
   ]
  },
  {
   "cell_type": "code",
   "execution_count": null,
   "id": "1bbc76e1",
   "metadata": {},
   "outputs": [
    {
     "data": {
      "text/plain": [
       "torch.Size([228146, 3, 2])"
      ]
     },
     "execution_count": null,
     "metadata": {},
     "output_type": "execute_result"
    }
   ],
   "source": [
    "c =torch.randn((27,2))\n",
    "emb = c[X]\n",
    "emb.shape"
   ]
  },
  {
   "cell_type": "code",
   "execution_count": null,
   "id": "d020455d",
   "metadata": {},
   "outputs": [],
   "source": [
    "W1 = torch.randn((6,100))*(5/3)*sqrt(3/6)\n",
    "b1 = torch.randn(100)"
   ]
  },
  {
   "cell_type": "code",
   "execution_count": null,
   "id": "f5cd8650",
   "metadata": {},
   "outputs": [],
   "source": [
    "#emb.view(emb.shape[0],6)\n",
    "h = torch.tanh(emb.view(-1,6) @ W1 + b1)"
   ]
  },
  {
   "cell_type": "code",
   "execution_count": null,
   "id": "2a65b792",
   "metadata": {},
   "outputs": [
    {
     "data": {
      "text/plain": [
       "(tensor(0.0142), tensor(0.8404))"
      ]
     },
     "execution_count": null,
     "metadata": {},
     "output_type": "execute_result"
    }
   ],
   "source": [
    "h.mean(),h.std()"
   ]
  },
  {
   "cell_type": "markdown",
   "id": "56625ab2",
   "metadata": {},
   "source": [
    "the W1 dimention is determined by the inputs;Here we have 2 dimentinal embedding with 3 inputs(charcters).  \n",
    "So the W1 will be (3x2=6), then the second dim is our parameter of how many neurons we want, lets say 100.  \n",
    "* but if we simply multiply(dot product) the emb(shape[32,3,2]) with W1(shape[6,100]), we will get an error.\n",
    "concaticating the embedding inputs is needed. \n",
    "- we can use pytorch for this."
   ]
  },
  {
   "cell_type": "code",
   "execution_count": null,
   "id": "00866f8f",
   "metadata": {},
   "outputs": [
    {
     "ename": "RuntimeError",
     "evalue": "mat1 and mat2 shapes cannot be multiplied (96x2 and 6x100)",
     "output_type": "error",
     "traceback": [
      "\u001b[0;31m---------------------------------------------------------------------------\u001b[0m",
      "\u001b[0;31mRuntimeError\u001b[0m                              Traceback (most recent call last)",
      "Cell \u001b[0;32mIn[68], line 1\u001b[0m\n\u001b[0;32m----> 1\u001b[0m \u001b[43memb\u001b[49m\u001b[43m \u001b[49m\u001b[38;5;241;43m@\u001b[39;49m\u001b[43m \u001b[49m\u001b[43mW1\u001b[49m \u001b[38;5;241m+\u001b[39m b1\n",
      "\u001b[0;31mRuntimeError\u001b[0m: mat1 and mat2 shapes cannot be multiplied (96x2 and 6x100)"
     ]
    }
   ],
   "source": [
    "emb @ W1 + b1"
   ]
  },
  {
   "cell_type": "code",
   "execution_count": null,
   "id": "d1251ed8",
   "metadata": {},
   "outputs": [
    {
     "data": {
      "text/plain": [
       "torch.Size([32, 6])"
      ]
     },
     "execution_count": null,
     "metadata": {},
     "output_type": "execute_result"
    }
   ],
   "source": [
    "#but this restrict as in changing the block size easily\n",
    "torch.cat([emb[:,0,:],emb[:,1,:], emb[:,2,:]],1).shape"
   ]
  },
  {
   "cell_type": "code",
   "execution_count": null,
   "id": "089422a1",
   "metadata": {},
   "outputs": [
    {
     "data": {
      "text/plain": [
       "torch.Size([32, 6])"
      ]
     },
     "execution_count": null,
     "metadata": {},
     "output_type": "execute_result"
    }
   ],
   "source": [
    "# torch unbind lets us easily change the blocksize and dont hardcode it\n",
    "torch.cat(torch.unbind(emb,1),1).shape"
   ]
  },
  {
   "cell_type": "code",
   "execution_count": null,
   "id": "2d060f83",
   "metadata": {},
   "outputs": [
    {
     "data": {
      "text/plain": [
       "tensor([ 0,  1,  2,  3,  4,  5,  6,  7,  8,  9, 10, 11, 12, 13, 14, 15, 16, 17])"
      ]
     },
     "execution_count": null,
     "metadata": {},
     "output_type": "execute_result"
    }
   ],
   "source": [
    "a =torch.arange(18);a"
   ]
  },
  {
   "cell_type": "code",
   "execution_count": null,
   "id": "30125ada",
   "metadata": {},
   "outputs": [
    {
     "data": {
      "text/plain": [
       "tensor([[ 0,  1,  2],\n",
       "        [ 3,  4,  5],\n",
       "        [ 6,  7,  8],\n",
       "        [ 9, 10, 11],\n",
       "        [12, 13, 14],\n",
       "        [15, 16, 17]])"
      ]
     },
     "execution_count": null,
     "metadata": {},
     "output_type": "execute_result"
    }
   ],
   "source": [
    "a.view(6,3)"
   ]
  },
  {
   "cell_type": "markdown",
   "id": "260d7df2",
   "metadata": {},
   "source": [
    "- the internal storage of memory of the variable is unchanged when we call .view just the attributes\n",
    " refer is article [http://blog.ezyang.com/2019/05/pytorch-internals/]"
   ]
  },
  {
   "cell_type": "code",
   "execution_count": null,
   "id": "3f20b7aa",
   "metadata": {},
   "outputs": [
    {
     "data": {
      "text/plain": [
       " 0\n",
       " 1\n",
       " 2\n",
       " 3\n",
       " 4\n",
       " 5\n",
       " 6\n",
       " 7\n",
       " 8\n",
       " 9\n",
       " 10\n",
       " 11\n",
       " 12\n",
       " 13\n",
       " 14\n",
       " 15\n",
       " 16\n",
       " 17\n",
       "[torch.storage.TypedStorage(dtype=torch.int64, device=cpu) of size 18]"
      ]
     },
     "execution_count": null,
     "metadata": {},
     "output_type": "execute_result"
    }
   ],
   "source": [
    "a.storage()"
   ]
  },
  {
   "cell_type": "markdown",
   "id": "5df89e12",
   "metadata": {},
   "source": [
    "- emb.view(32,6) == torch.cat(torch.unbind(emb,1),1)\n",
    "it gives us the same result"
   ]
  },
  {
   "cell_type": "code",
   "execution_count": null,
   "id": "ea9dbf9d",
   "metadata": {},
   "outputs": [],
   "source": []
  },
  {
   "cell_type": "code",
   "execution_count": null,
   "id": "37baa2a1",
   "metadata": {},
   "outputs": [],
   "source": [
    "#emb.view(emb.shape[0],6)\n",
    "h = torch.tanh(emb.view(-1,6) @ W1 + b1)"
   ]
  },
  {
   "cell_type": "code",
   "execution_count": null,
   "id": "726f014b",
   "metadata": {},
   "outputs": [
    {
     "data": {
      "text/plain": [
       "(tensor(0.0802), tensor(0.7242))"
      ]
     },
     "execution_count": null,
     "metadata": {},
     "output_type": "execute_result"
    }
   ],
   "source": [
    "h.mean(),h.std()"
   ]
  },
  {
   "cell_type": "code",
   "execution_count": null,
   "id": "05198a17",
   "metadata": {},
   "outputs": [
    {
     "data": {
      "text/plain": [
       "torch.Size([32, 100])"
      ]
     },
     "execution_count": null,
     "metadata": {},
     "output_type": "execute_result"
    }
   ],
   "source": [
    "h.shape"
   ]
  },
  {
   "cell_type": "code",
   "execution_count": null,
   "id": "69025259",
   "metadata": {},
   "outputs": [],
   "source": [
    "W2 = torch.randn((100,27))\n",
    "b2 = torch.randn(27)"
   ]
  },
  {
   "cell_type": "code",
   "execution_count": null,
   "id": "8c3c004c",
   "metadata": {},
   "outputs": [
    {
     "data": {
      "text/plain": [
       "torch.Size([32, 27])"
      ]
     },
     "execution_count": null,
     "metadata": {},
     "output_type": "execute_result"
    }
   ],
   "source": [
    "logits = h @ W2 + b2\n",
    "logits.shape"
   ]
  },
  {
   "cell_type": "code",
   "execution_count": null,
   "id": "7b3e7166",
   "metadata": {},
   "outputs": [],
   "source": [
    "counts = logits.exp()"
   ]
  },
  {
   "cell_type": "markdown",
   "id": "ccba734a",
   "metadata": {},
   "source": [
    "sum(keepdims=True)... is for not making braodcasting bug, adds dimention size 1 axes (27,1)  \n",
    "* coz broadcating starts from rigth to left so (27) is changed to as (1,27), keepdims addes trailing size one axes"
   ]
  },
  {
   "cell_type": "code",
   "execution_count": null,
   "id": "10f065da",
   "metadata": {},
   "outputs": [],
   "source": [
    "probs = counts / counts.sum(1,keepdims=True) # .exp and normalizing by sum gives us softmax"
   ]
  },
  {
   "cell_type": "code",
   "execution_count": null,
   "id": "5f1f0ca6",
   "metadata": {},
   "outputs": [
    {
     "data": {
      "text/plain": [
       "tensor(17.4144)"
      ]
     },
     "execution_count": null,
     "metadata": {},
     "output_type": "execute_result"
    }
   ],
   "source": [
    "loss = -probs[torch.arange(32),Y].log().mean() #nll\n",
    "loss"
   ]
  },
  {
   "cell_type": "code",
   "execution_count": null,
   "id": "5a64627b",
   "metadata": {},
   "outputs": [
    {
     "data": {
      "text/plain": [
       "tensor([ 5, 13, 13,  1,  0, 15, 12,  9, 22,  9,  1,  0,  1, 22,  1,  0,  9, 19,\n",
       "         1,  2,  5, 12, 12,  1,  0, 19, 15, 16,  8,  9,  1,  0])"
      ]
     },
     "execution_count": null,
     "metadata": {},
     "output_type": "execute_result"
    }
   ],
   "source": [
    "Y"
   ]
  },
  {
   "cell_type": "markdown",
   "id": "8588eec1",
   "metadata": {},
   "source": [
    "## --------!-----!---"
   ]
  },
  {
   "cell_type": "code",
   "execution_count": null,
   "id": "4e928d68",
   "metadata": {},
   "outputs": [
    {
     "name": "stdout",
     "output_type": "stream",
     "text": [
      "torch.Size([182465, 3]) torch.Size([182465])\n",
      "torch.Size([22902, 3]) torch.Size([22902])\n",
      "torch.Size([22779, 3]) torch.Size([22779])\n"
     ]
    }
   ],
   "source": [
    "def build_dataset(words):\n",
    "    \n",
    "    block_size = 3\n",
    "    X, Y = [],[]\n",
    "\n",
    "    for w in words:\n",
    "        #print(w)\n",
    "        context = [0] * block_size\n",
    "        for ch in w +'.':\n",
    "            ix = stio[ch]\n",
    "            X.append(context)\n",
    "            Y.append(ix)\n",
    "            #print(''.join(iots[i] for i in context),'---->',iots[ix])\n",
    "            context = context[1:] + [ix]\n",
    "\n",
    "    X = torch.tensor(X)\n",
    "    Y = torch.tensor(Y)\n",
    "    print(X.shape, Y.shape)\n",
    "    return X,Y\n",
    "import random\n",
    "random.seed(42)\n",
    "random.shuffle(words)\n",
    "n1 = int(0.8*len(words))\n",
    "n2 = int(0.9*len(words))\n",
    "\n",
    "Xtr, Ytr = build_dataset(words[:n1])\n",
    "Xdev, Ydev = build_dataset(words[n1:n2])\n",
    "Xts, Yts = build_dataset(words[n2:])"
   ]
  },
  {
   "cell_type": "code",
   "execution_count": null,
   "id": "7a1b05a6",
   "metadata": {},
   "outputs": [
    {
     "data": {
      "text/plain": [
       "(torch.Size([182465, 3]), torch.Size([182465]))"
      ]
     },
     "execution_count": null,
     "metadata": {},
     "output_type": "execute_result"
    }
   ],
   "source": [
    "Xtr.shape,Ytr.shape"
   ]
  },
  {
   "cell_type": "markdown",
   "id": "064114ba",
   "metadata": {},
   "source": [
    "* number of hidden embedding size, fastai Jeremy right hand rule\n",
    "round(1.6 * number of categories * 0.56 # number of categories here = vocab_size"
   ]
  },
  {
   "cell_type": "code",
   "execution_count": null,
   "id": "0cf29245",
   "metadata": {},
   "outputs": [],
   "source": [
    "n_dim = 10 # embedding dimention size\n",
    "bs = 32 # batch size\n",
    "B = 3 # block size\n",
    "n_hidden = 200\n",
    "vocab_size =27\n",
    "\n",
    "g= torch.Generator().manual_seed(2147483647)\n",
    "C =torch.randn((vocab_size,n_dim),generator=g)\n",
    "W1 = torch.randn(((n_dim*B),n_hidden),generator=g) * (5/3)/((n_dim*B)**0.5)\n",
    "b1 = torch.randn(n_hidden,generator=g) * 0.01\n",
    "W2 = torch.randn((n_hidden,vocab_size),generator=g)* 0.01\n",
    "b2 = torch.randn(vocab_size,generator=g)*0.01\n",
    "\n",
    "bnrmg = torch.ones(1,n_hidden)\n",
    "bnrmb = torch.zeros(1,n_hidden)\n",
    "\n",
    "parameters = [C,W1,b1,W2,b2, bnrmg, bnrmb]\n",
    "print(sum(p.nelement() for p in parameters))\n",
    "for p in parameters:\n",
    "    p.requires_grad=True"
   ]
  },
  {
   "cell_type": "code",
   "execution_count": null,
   "id": "dfb2153d",
   "metadata": {},
   "outputs": [],
   "source": [
    "W1.mean(),W1.std()"
   ]
  },
  {
   "cell_type": "markdown",
   "id": "4ef0cf37",
   "metadata": {},
   "source": [
    "F.cross_entropy is much more efficient in calculating, in backpropagations and offseting the max number for (preventing out of computer floating point reach)\n",
    "\n",
    "- minibatch = instead of optimizing on the whole dataset at one time we can optimize on a small dataset(minibatches) to make it faster... but the gradient is just an approximate as it is not operating on the whole dateset but still good enough\n",
    "- torch.randint(0,X.shape[0], (32,))"
   ]
  },
  {
   "cell_type": "code",
   "execution_count": null,
   "id": "982556cb",
   "metadata": {},
   "outputs": [],
   "source": [
    "# lre = torch.linspace(-3,0,1000)\n",
    "# lrs = 10**lre\n"
   ]
  },
  {
   "cell_type": "code",
   "execution_count": null,
   "id": "98c83a13",
   "metadata": {},
   "outputs": [],
   "source": [
    "lri,lossi,stepi =[],[],[]"
   ]
  },
  {
   "cell_type": "code",
   "execution_count": null,
   "id": "377b9b19",
   "metadata": {},
   "outputs": [],
   "source": [
    "# In Batch Normalization\n",
    "hpre_act.mean(0,keepdims=True).shape"
   ]
  },
  {
   "cell_type": "code",
   "execution_count": null,
   "id": "26840733",
   "metadata": {},
   "outputs": [],
   "source": [
    "hpre_act.std(0,keepdims=True).shape"
   ]
  },
  {
   "cell_type": "code",
   "execution_count": null,
   "id": "19822c92",
   "metadata": {},
   "outputs": [],
   "source": [
    "max_steps = 200000\n",
    "\n",
    "for i in range(max_steps):\n",
    "    #contruct a minibatch\n",
    "    ix = torch.randint(0,Xtr.shape[0], (bs,))\n",
    "    xb,yb = Xtr[ix],Ytr[ix]\n",
    "    \n",
    "    #forward pass\n",
    "    emb = C[xb] # 32,3,2\n",
    "    emb_cat = emb.view(emb.shape[0],(n_dim*B))\n",
    "    hpre_act = emb_cat @ W1 + b1\n",
    "    #batchnormalization\n",
    "    hpre_act = bnrmg*(hpre_act - hpre_act.mean(0,keepdims=True))/hpre_act.std(0,keepdims=True) + bnrmb\n",
    "    h = torch.tanh(hpre_act) # 32,200\n",
    "    logits = h @ W2 + b2 # 32,27\n",
    "    loss = F.cross_entropy(logits,yb)\n",
    "    #print(loss.item())\n",
    "    \n",
    "    #backward\n",
    "    for p in parameters:\n",
    "        p.grad = None\n",
    "    loss.backward()\n",
    "    \n",
    "    #updating\n",
    "    #lr = lrs[i]\n",
    "    lr = 0.1 if i < 100000 else 0.01\n",
    "    for p in parameters:\n",
    "        p.data += -lr*p.grad\n",
    "        \n",
    "    #tracking stats\n",
    "    if i %10000==0:\n",
    "        print(f'{i:7d}/{max_steps:7d}: {loss.item():.4f}')\n",
    "    lossi.append(loss.log10().item())\n",
    "    "
   ]
  },
  {
   "cell_type": "code",
   "execution_count": null,
   "id": "918021ad",
   "metadata": {},
   "outputs": [],
   "source": [
    "plt.figure(figsize=(10,10))\n",
    "plt.imshow(h.abs()>0.999, cmap ='gray', interpolation= 'nearest') # white color indicates true boolian (dead activation on the flat tail of tanh)"
   ]
  },
  {
   "cell_type": "code",
   "execution_count": null,
   "id": "bdda497c",
   "metadata": {},
   "outputs": [],
   "source": [
    "plt.hist(h.view(-1).tolist(),50);"
   ]
  },
  {
   "cell_type": "code",
   "execution_count": null,
   "id": "ea844c0e",
   "metadata": {},
   "outputs": [],
   "source": [
    "plt.hist(hpre.view(-1).tolist(),50);"
   ]
  },
  {
   "cell_type": "markdown",
   "id": "c122aef0",
   "metadata": {},
   "source": [
    "#### The expected nll loss/ probability of our network at the start can be calculated here, all the 27 vocab should have equal probability of being the next word"
   ]
  },
  {
   "cell_type": "code",
   "execution_count": null,
   "id": "9a91f4da",
   "metadata": {},
   "outputs": [],
   "source": [
    "-torch.tensor(1/vocab_size).log()"
   ]
  },
  {
   "cell_type": "code",
   "execution_count": null,
   "id": "9d4bdeb8",
   "metadata": {},
   "outputs": [],
   "source": [
    "plt.plot(lossi);"
   ]
  },
  {
   "cell_type": "code",
   "execution_count": null,
   "id": "9107b535",
   "metadata": {},
   "outputs": [],
   "source": [
    "# test data loss test\n",
    "@torch.no_grad()\n",
    "def split_loss(split):\n",
    "    x,y = {\n",
    "        'train':(Xtr,Ytr),\n",
    "        'dev': (Xdev,Ydev),\n",
    "        'test': (Xts, Yts)\n",
    "    }[split]\n",
    "    \n",
    "    emb = C[x] # 32,3,2\n",
    "    h = torch.tanh(emb.view(emb.shape[0],(n_dim*B)) @ W1 + b1) # 32,100\n",
    "    logits = h @ W2 + b2 # 32,27\n",
    "    loss = F.cross_entropy(logits,y)\n",
    "    print(split,loss.item())\n",
    "\n",
    "split_loss('train')\n",
    "split_loss('dev')"
   ]
  },
  {
   "cell_type": "markdown",
   "id": "eda1b6d5",
   "metadata": {},
   "source": [
    "best score so far = tr_loss-->2.1088, dev -->2.1544 , tst --> 2.1637 # 400 neurons/activations  \n",
    "...........................-->2.0126, dev -->2.1036,  tst --> 2.0921 # kaiming activation \n",
    "...........................-->2.0365, dev -->2.1014, # proper kaiming activation \n",
    "best score so far = tr_loss-->2.1141, dev -->2.1637  \n",
    "neurons size of 300 .......-->2.0969, dev -->2.1647  \n",
    "emb size = 5...............-->2.1680, dev -->2.1964  "
   ]
  },
  {
   "cell_type": "code",
   "execution_count": null,
   "id": "dfcb08f9",
   "metadata": {},
   "outputs": [
    {
     "data": {
      "image/png": "[encoded data removed]",
      "text/plain": [
       "<Figure size 800x800 with 1 Axes>"
      ]
     },
     "metadata": {},
     "output_type": "display_data"
    }
   ],
   "source": [
    "plt.figure(figsize=(8,8))\n",
    "plt.scatter(C[:,0].data, C[:,1].data, s=200)\n",
    "for i in range(C.shape[0]):\n",
    "    plt.text(C[i,0].item(), C[i,1].item(),iots[i], ha='center', va='center', color='white')\n",
    "plt.grid('minor')"
   ]
  },
  {
   "cell_type": "code",
   "execution_count": null,
   "id": "56fc13fe",
   "metadata": {},
   "outputs": [
    {
     "data": {
      "text/plain": [
       "[<matplotlib.lines.Line2D>]"
      ]
     },
     "execution_count": null,
     "metadata": {},
     "output_type": "execute_result"
    },
    {
     "data": {
      "image/png": "[encoded data removed]",
      "text/plain": [
       "<Figure size 640x480 with 1 Axes>"
      ]
     },
     "metadata": {},
     "output_type": "display_data"
    }
   ],
   "source": [
    "plt.plot(lri,lossi)# this plot can give as the rough estimate of the good lr"
   ]
  },
  {
   "cell_type": "code",
   "execution_count": null,
   "id": "94514447",
   "metadata": {},
   "outputs": [
    {
     "name": "stdout",
     "output_type": "stream",
     "text": [
      "naharlyn.\n",
      "phamarmartyn.\n",
      "yarazirammit.\n",
      "vivaan.\n",
      "ree.\n",
      "hanani.\n",
      "docel.\n",
      "van.\n",
      "kamaralyn.\n",
      "jakuazarlenorantlee.\n",
      "joonah.\n",
      "niver.\n",
      "ana.\n",
      "kata.\n",
      "zanna.\n",
      "rizaua.\n",
      "amceebaysan.\n",
      "nis.\n",
      "tatyvbe.\n",
      "rhimana.\n"
     ]
    }
   ],
   "source": [
    "#sample from the model\n",
    "g = torch.Generator().manual_seed(2147483647 + 11)\n",
    "\n",
    "for _ in range(20):\n",
    "    out = []\n",
    "    context = [0]* block_size # initializing all with ...\n",
    "    while True:\n",
    "        emb = C[torch.tensor([context])]\n",
    "        h = torch.tanh(emb.view(1,-1) @ W1 + b1)\n",
    "        logits = h @ W2 + b2\n",
    "        probs = F.softmax(logits, 1)\n",
    "        ix = torch.multinomial(probs, num_samples=1, generator =g).item()\n",
    "        context = context[1:] + [ix]\n",
    "        out.append(ix)\n",
    "        if ix ==0:\n",
    "            break\n",
    "            \n",
    "    print(''.join(iots[i] for i in out ))\n",
    "        "
   ]
  },
  {
   "cell_type": "code",
   "execution_count": null,
   "id": "f2423a2a",
   "metadata": {},
   "outputs": [],
   "source": []
  }
 ],
 "metadata": {
  "kernelspec": {
   "display_name": "python3",
   "language": "python",
   "name": "python3"
  }
 },
 "nbformat": 4,
 "nbformat_minor": 5
}
